{
 "cells": [
  {
   "cell_type": "code",
   "execution_count": 28,
   "metadata": {},
   "outputs": [],
   "source": [
    "############################## CMSC828C PROJECT 1 #######################################################\n",
    "# Code : K Nearest Neigbor along with PCA and LDA\n",
    "# author : Saket Seshadri Gudimetla Hanumath\n",
    "# UID : 116332293\n",
    "######################################################################################################\n",
    "# # # NECESSARY LIBRARIES\n",
    "import numpy as np\n",
    "import mnist_reader\n",
    "import math\n",
    "import time\n",
    "from sklearn.neighbors import KNeighborsClassifier\n",
    "\n",
    "# Importing NECESSARY LIBRARIES for part (c)\n",
    "from sklearn.decomposition import PCA\n",
    "from sklearn.discriminant_analysis import LinearDiscriminantAnalysis\n",
    "# from sklearn.preprocessing import StandardScaler"
   ]
  },
  {
   "cell_type": "code",
   "execution_count": 20,
   "metadata": {},
   "outputs": [],
   "source": [
    "# LOADING THE DATASET\n",
    "def load_dataset():    \n",
    "    X_train, y_train = mnist_reader.load_mnist('fashion-mnist-master/data/fashion', kind='train')\n",
    "    X_test, y_test = mnist_reader.load_mnist('fashion-mnist-master/data/fashion', kind='t10k')\n",
    "    return X_train, y_train, X_test, y_test"
   ]
  },
  {
   "cell_type": "code",
   "execution_count": 21,
   "metadata": {},
   "outputs": [],
   "source": [
    "def pca_KNN(X_train, y_train, X_test, y_test):\n",
    "    \n",
    "    start = time.time()\n",
    "    # number of parameters that are responsible for var% of total variance\n",
    "    pca = PCA(0.95)\n",
    "\n",
    "#     print(\"X_train shape originally : \", X_train.shape)\n",
    "    X_train_pca = pca.fit_transform(X_train)\n",
    "#     print(\"X_train shape after PCA : \", X_train_pca.shape)\n",
    "\n",
    "#     print(\"X_test shape originally : \", X_test.shape)\n",
    "    X_test_pca = pca.transform(X_test)\n",
    "#     print(\"X_test after PCA : \", X_test_pca.shape)\n",
    "    \n",
    "    K = [i for i in range(1, 20, 2)]\n",
    "    accuracy_list = []\n",
    "\n",
    "    for i, k in enumerate(K):\n",
    "        knn = KNeighborsClassifier(n_neighbors=k) \n",
    "        knn.fit(X_train_pca, y_train)\n",
    "        accuracy_list.append([knn.score(X_test_pca, y_test), k])\n",
    "    \n",
    "    end = time.time()\n",
    "    time_elapsed = end - start \n",
    "    \n",
    "    return(accuracy_list), time_elapsed"
   ]
  },
  {
   "cell_type": "code",
   "execution_count": 22,
   "metadata": {},
   "outputs": [],
   "source": [
    "def lda_KNN(X_train, y_train, X_test, y_test):\n",
    "    \n",
    "    start = time.time()\n",
    "    \n",
    "    lda = LinearDiscriminantAnalysis()\n",
    "    \n",
    "    # print(\"X_train shape before LDA : \", X_train.shape)\n",
    "    X_train_lda = lda.fit_transform(X_train, y_train)\n",
    "#     print(\"X_train shape after LDA : \", X_train_lda.shape)\n",
    "\n",
    "#     print(\"X_test shape before LDA : \", X_test.shape)\n",
    "    X_test_lda = lda.transform(X_test)\n",
    "#     print(\"X_test after LDA : \", X_test_lda.shape)\n",
    "    \n",
    "    K = [i for i in range(1, 20, 2)]\n",
    "    accuracy_list = []\n",
    "\n",
    "    for i, k in enumerate(K):\n",
    "        knn = KNeighborsClassifier(n_neighbors=k) \n",
    "        knn.fit(X_train_lda, y_train)\n",
    "        accuracy_list.append([knn.score(X_test_lda, y_test), k])\n",
    "    \n",
    "    end = time.time()\n",
    "    time_elapsed = end - start\n",
    "    \n",
    "    return(accuracy_list), time_elapsed"
   ]
  },
  {
   "cell_type": "code",
   "execution_count": 23,
   "metadata": {},
   "outputs": [],
   "source": [
    "def main():\n",
    "    \n",
    "    # load the dataset\n",
    "    X_train, y_train, X_test, y_test = load_dataset()\n",
    "    \n",
    "    ######################### Part (b) K-NN without PCA and LDA #################################    \n",
    "    # Use K Nearest Neigbor Classifier for odd values of k ranging from 1 - 20\n",
    "    \n",
    "    # Uncomment the code below to see the output for yourself but this section has been commented \n",
    "    # since it takes around 2 hrs for the code to produce an output\n",
    "#     start = time.time()\n",
    "#     K = [i for i in range(1, 20, 2)]\n",
    "#     accuracy_list = []\n",
    "\n",
    "#     for i, k in enumerate(K):\n",
    "#         knn = KNeighborsClassifier(n_neighbors=k) \n",
    "#         knn.fit(X_train, y_train)\n",
    "#         accuracy_list.append([knn.score(X_test, y_test), k])\n",
    "#     knn_time = time.time() - start  \n",
    "\n",
    "    # Initialising the accuracy list with values obtained during the initial run of KNN for 2 \n",
    "    # hours. It contains accuracy and its corresponding k value. \n",
    "    accuracy_list = [[0.8497, 1], [0.8541, 3], [0.8554, 5], [0.854, 7], [0.8519, 9], [0.8495, 11], \n",
    "                     [0.8468, 13], [0.8462, 15], [0.8441, 17], [0.8427, 19]]\n",
    "    \n",
    "    ######################### Part (c) K-NN with PCA and LDA #################################\n",
    "    \n",
    "    pca_acc_list, pca_time = pca_KNN(X_train, y_train, X_test, y_test)\n",
    "    lda_acc_list, lda_time = lda_KNN(X_train, y_train, X_test, y_test)\n",
    "    \n",
    "    print(\"KNN for various values of k without PCA and LDA \")\n",
    "    print(accuracy_list)\n",
    "    print(\"time elapsed for computing KNN for 10 values of k --> ~ 280 mins\")\n",
    "    \n",
    "    print(\"\\nKNN for various values of k with PCA\")\n",
    "    print(pca_acc_list)\n",
    "    print(\"time elapsed for computing KNN with PCA for 10 values of k --> \", pca_time)\n",
    "    \n",
    "    print(\"\\nKNN for various values of k with LDA\")\n",
    "    print(lda_acc_list)\n",
    "    print(\"time elapsed for computing KNN with LDA for 10 values of k --> \", lda_time)"
   ]
  },
  {
   "cell_type": "code",
   "execution_count": 24,
   "metadata": {},
   "outputs": [
    {
     "name": "stdout",
     "output_type": "stream",
     "text": [
      "KNN for various values of k without PCA and LDA \n",
      "[[0.8497, 1], [0.8541, 3], [0.8554, 5], [0.854, 7], [0.8519, 9], [0.8495, 11], [0.8468, 13], [0.8462, 15], [0.8441, 17], [0.8427, 19]]\n",
      "time elapsed for computing KNN for 10 values of k --> ~ 120 mins\n",
      "\n",
      "KNN for various values of k with PCA\n",
      "[[0.8521, 1], [0.8592, 3], [0.8623, 5], [0.8619, 7], [0.8602, 9], [0.8602, 11], [0.8558, 13], [0.8561, 15], [0.8537, 17], [0.8523, 19]]\n",
      "time elapsed for computing KNN with PCA for 10 values of k -->  408.94849610328674\n",
      "\n",
      "KNN for various values of k with LDA\n",
      "[[0.7911, 1], [0.814, 3], [0.8221, 5], [0.8279, 7], [0.8314, 9], [0.8325, 11], [0.8316, 13], [0.8322, 15], [0.831, 17], [0.8309, 19]]\n",
      "time elapsed for computing KNN with LDA for 10 values of k -->  14.72862434387207\n"
     ]
    }
   ],
   "source": [
    "main()"
   ]
  },
  {
   "cell_type": "code",
   "execution_count": null,
   "metadata": {},
   "outputs": [],
   "source": []
  },
  {
   "cell_type": "code",
   "execution_count": 27,
   "metadata": {},
   "outputs": [
    {
     "name": "stdout",
     "output_type": "stream",
     "text": [
      "[0.8497, 1]\n",
      "time --> \n",
      "2093.0713715553284\n"
     ]
    }
   ],
   "source": []
  },
  {
   "cell_type": "code",
   "execution_count": null,
   "metadata": {},
   "outputs": [],
   "source": []
  }
 ],
 "metadata": {
  "kernelspec": {
   "display_name": "Python 3",
   "language": "python",
   "name": "python3"
  },
  "language_info": {
   "codemirror_mode": {
    "name": "ipython",
    "version": 3
   },
   "file_extension": ".py",
   "mimetype": "text/x-python",
   "name": "python",
   "nbconvert_exporter": "python",
   "pygments_lexer": "ipython3",
   "version": "3.7.1"
  }
 },
 "nbformat": 4,
 "nbformat_minor": 2
}

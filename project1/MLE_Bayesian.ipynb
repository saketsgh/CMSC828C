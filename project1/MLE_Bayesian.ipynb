{
 "cells": [
  {
   "cell_type": "code",
   "execution_count": 43,
   "metadata": {},
   "outputs": [],
   "source": [
    "############################## CMSC828C PROJECT 1 #######################################################\n",
    "# Code : Bayes Classifier along with PCA and LDA\n",
    "# author : Saket Seshadri Gudimetla Hanumath\n",
    "# UID : 116332293\n",
    "######################################################################################################\n",
    "# Importing NECESSARY LIBRARIES for part (a)\n",
    "import numpy as np\n",
    "import mnist_reader\n",
    "import math\n",
    "import time\n",
    "\n",
    "# Importing NECESSARY LIBRARIES for part (c)\n",
    "from sklearn.decomposition import PCA\n",
    "from sklearn.discriminant_analysis import LinearDiscriminantAnalysis\n",
    "# from sklearn.preprocessing import StandardScaler"
   ]
  },
  {
   "cell_type": "code",
   "execution_count": 44,
   "metadata": {},
   "outputs": [],
   "source": [
    "# LOADING THE DATASET\n",
    "def load_dataset():    \n",
    "    X_train, y_train = mnist_reader.load_mnist('fashion-mnist-master/data/fashion', kind='train')\n",
    "    X_test, y_test = mnist_reader.load_mnist('fashion-mnist-master/data/fashion', kind='t10k')\n",
    "    return X_train, y_train, X_test, y_test"
   ]
  },
  {
   "cell_type": "code",
   "execution_count": 45,
   "metadata": {},
   "outputs": [],
   "source": [
    "# CALCULATING THE MLE ESTIMATES FOR THE GIVEN LABEL/CLASS\n",
    "def mlestimates(x_train, y_train, cls_name):\n",
    "    indices_list = np.where(y_train == cls_name)\n",
    "    x_class = x_train[indices_list[0]]\n",
    "    mu = np.mean(x_class, axis = 0)\n",
    "    cov = np.cov(x_class, rowvar=False)\n",
    "    return mu, cov"
   ]
  },
  {
   "cell_type": "code",
   "execution_count": 46,
   "metadata": {},
   "outputs": [],
   "source": [
    "def discriminant_fun(X_test, thetas):\n",
    "    # returns the discriminant functions computed for all test samples and for each \n",
    "    # of the 10 classes. Thus, it has a shape of 10, 10000\n",
    "    \n",
    "    x = X_test.T\n",
    "    g = []\n",
    "    \n",
    "    # using discriminant functions g_i(x)\n",
    "    for theta in range(0, 10):\n",
    "            mu, cov = thetas[theta]\n",
    "            mu = mu.reshape(len(mu), 1)\n",
    "            x_mu = (np.subtract(x, mu)).T\n",
    "            x_mu_sig = np.dot(x_mu, np.linalg.pinv(cov))\n",
    "            g_x_theta = np.multiply(x_mu_sig, x_mu)\n",
    "            g_x_theta = np.sum(g_x_theta, axis = 1)\n",
    "            g.append(-0.5*g_x_theta)\n",
    "            \n",
    "    g = np.array(g)\n",
    "    return g"
   ]
  },
  {
   "cell_type": "code",
   "execution_count": 47,
   "metadata": {},
   "outputs": [],
   "source": [
    "def get_predicted_labels(g):\n",
    "    y_pred = []\n",
    "    \n",
    "    # Max denotes the index of the the class that has the largest magnitude of discriminant function\n",
    "    # or that has max posterior probability, since Bayes chooses the one with max magnitude. \n",
    "    Max = 0\n",
    "    \n",
    "    for j in range(0, 10000):\n",
    "        for i in range(0, 10):\n",
    "            if g[i, j] > g[Max, j]:\n",
    "                Max = i\n",
    "        y_pred.append(Max)\n",
    "        \n",
    "    y_pred = np.array(y_pred)\n",
    "    return y_pred"
   ]
  },
  {
   "cell_type": "code",
   "execution_count": 48,
   "metadata": {},
   "outputs": [],
   "source": [
    "def pred_acc(y_test, y_pred):    \n",
    "    comparison = 0\n",
    "    for i in range(0, len(y_pred)):\n",
    "        if y_pred[i] == y_test[i]:\n",
    "            comparison += 1\n",
    "    accuracy = comparison/len(y_pred)\n",
    "    accuracy = accuracy*100\n",
    "    return accuracy"
   ]
  },
  {
   "cell_type": "code",
   "execution_count": 52,
   "metadata": {},
   "outputs": [],
   "source": [
    "def mle_bayes_classifier(X_train, y_train, X_test, y_test):\n",
    "    start = time.time()\n",
    "    \n",
    "    # CALCULATING MEAN AND COVARIANCE OF EACH CLASS \n",
    "    # storing it in the list below\n",
    "    thetas = []\n",
    "    for i in range(0, 10):\n",
    "        mu, cov = mlestimates(X_train, y_train, i)\n",
    "        thetas.append([mu, cov])\n",
    "    \n",
    "    # get discriminant function value for all test samples\n",
    "    g = discriminant_fun(X_test, thetas)\n",
    "    \n",
    "    # get predicted labels\n",
    "    y_pred = get_predicted_labels(g)\n",
    "    \n",
    "    # get accuracy of prediction\n",
    "    accuracy = pred_acc(y_test, y_pred)\n",
    "    \n",
    "    end = time.time()\n",
    "    time_elapsed = end - start\n",
    "    \n",
    "    return accuracy, time_elapsed"
   ]
  },
  {
   "cell_type": "code",
   "execution_count": 60,
   "metadata": {},
   "outputs": [],
   "source": [
    "def pca_bayes(X_train, y_train, X_test, y_test, var):\n",
    "    \n",
    "    # number of parameters that are responsible for var% of total variance\n",
    "    pca = PCA(var)\n",
    "\n",
    "    # print(\"X_train shape originally : \", X_train.shape)\n",
    "    X_train_pca = pca.fit_transform(X_train)\n",
    "    # print(\"X_train shape after PCA : \", X_train_pca.shape)\n",
    "\n",
    "    # print(\"X_test shape originally : \", X_test.shape)\n",
    "    X_test_pca = pca.transform(X_test)\n",
    "    # print(\"X_test after PCA : \", X_test_pca.shape)\n",
    "\n",
    "    accuracy, pca_time = mle_bayes_classifier(X_train_pca, y_train, X_test_pca, y_test)\n",
    "    \n",
    "    return [var, X_train_pca.shape[1], X_test_pca.shape[1], accuracy] , pca_time\n",
    "    "
   ]
  },
  {
   "cell_type": "code",
   "execution_count": 68,
   "metadata": {},
   "outputs": [],
   "source": [
    "def lda_bayes(X_train, y_train, X_test, y_test):\n",
    "    # number of parameters that are responsible for var% of total variance\n",
    "    lda = LinearDiscriminantAnalysis()\n",
    "\n",
    "    # print(\"X_train shape originally : \", X_train.shape)\n",
    "    X_train_lda = lda.fit_transform(X_train, y_train)\n",
    "    # print(\"X_train shape after LDA : \", X_train_new.shape)\n",
    "\n",
    "#     print(\"X_test shape originally : \", X_test.shape)\n",
    "    X_test_lda = lda.transform(X_test)\n",
    "#     print(\"X_test after LDA : \", X_test_lda.shape)\n",
    "\n",
    "    accuracy, lda_time = mle_bayes_classifier(X_train_lda, y_train, X_test_lda, y_test)\n",
    "    \n",
    "    return [X_train_lda.shape[1], X_test_lda.shape[1], accuracy], lda_time"
   ]
  },
  {
   "cell_type": "code",
   "execution_count": 62,
   "metadata": {},
   "outputs": [],
   "source": [
    "def main():\n",
    "    \n",
    "    #################### PART (A) BAYES CLASSIFIER WITH GAUSSIAN ASSUMPTION #################\n",
    "    # load the dataset\n",
    "    X_train, y_train, X_test, y_test = load_dataset()\n",
    "    bayes_acc, bayes_time = mle_bayes_classifier(X_train, y_train, X_test, y_test)\n",
    "    \n",
    "    # getting accuracy of bayes classifier before dimensionality reduction\n",
    "    print(\"accuracy of bayes classifier without pca and lda \", bayes_acc)\n",
    "    print(\"time elapsed for Bayes without reduction in dimensions --> \", bayes_time)\n",
    "    #################### PART (C) BAYES CLASSIFIER WITH PCA AND LDA ########################\n",
    "    # Testing different variance values for accuracy\n",
    "    var_list = [0.95, 0.90, 0.86, 0.80]\n",
    "    pca_acc_list = []\n",
    "    \n",
    "    # test for each variance parameter how bayes classifier and pca performs on the dataset\n",
    "    for var in var_list:\n",
    "        acc_list, pca_time = pca_bayes(X_train, y_train, X_test, y_test, var)\n",
    "        pca_acc_list.append(acc_list)\n",
    "    \n",
    "    print(\"\\nAccuracy of Bayes Classifier after PCA -->\")\n",
    "    print(\"[Variance, Dimensions of Xtrain after PCA, Dimensions of X_test after PCA, Accuracy]\")\n",
    "    print(pca_acc_list)\n",
    "    print(\"time elapsed during PCA computation --> \", pca_time)\n",
    "    # After observing the output its clear that for when dimensions when reduced to 49 and the \n",
    "    # variance parameter was 0.86 acc peaked around 80.97%\n",
    "    \n",
    "    # performing LDA and calculating accuracy\n",
    "    lda_acc_list, lda_time = lda_bayes(X_train, y_train, X_test, y_test)\n",
    "    print(\"\\nAccuracy of Bayes Classifier after LDA -->\")\n",
    "    print(\"[Dimensions of Xtrain after LDA, Dimensions of X_test after LDA, Accuracy]\")\n",
    "    print(lda_acc_list)\n",
    "    print(\"time elapsed during LDA computation --> \", lda_time)\n",
    "    # accuracy after LDA was found to be 80.46%\n",
    "    "
   ]
  },
  {
   "cell_type": "code",
   "execution_count": 63,
   "metadata": {},
   "outputs": [
    {
     "name": "stdout",
     "output_type": "stream",
     "text": [
      "accuracy of bayes classifier without pca and lda  72.39999999999999\n",
      "time elapsed for Bayes without reduction in dimensions -->  3.623312473297119\n",
      "\n",
      "Accuracy of Bayes Classifier after PCA -->\n",
      "[Variance, Dimensions of Xtrain after PCA, Dimensions of X_test after PCA, Accuracy]\n",
      "[[0.95, 187, 187, 79.08], [0.9, 84, 84, 80.69], [0.86, 49, 49, 80.97999999999999], [0.8, 24, 24, 79.49000000000001]]\n",
      "time elapsed during PCA computation -->  0.0937490463256836\n",
      "\n",
      "Accuracy of Bayes Classifier after LDA -->\n",
      "[Dimensions of Xtrain after LDA, Dimensions of X_test after LDA, Accuracy]\n",
      "[9, 9, 80.46]\n",
      "time elapsed during LDA computation -->  0.05285930633544922\n"
     ]
    }
   ],
   "source": [
    "main()"
   ]
  },
  {
   "cell_type": "code",
   "execution_count": null,
   "metadata": {},
   "outputs": [],
   "source": []
  },
  {
   "cell_type": "code",
   "execution_count": null,
   "metadata": {},
   "outputs": [],
   "source": []
  }
 ],
 "metadata": {
  "kernelspec": {
   "display_name": "Python 3",
   "language": "python",
   "name": "python3"
  },
  "language_info": {
   "codemirror_mode": {
    "name": "ipython",
    "version": 3
   },
   "file_extension": ".py",
   "mimetype": "text/x-python",
   "name": "python",
   "nbconvert_exporter": "python",
   "pygments_lexer": "ipython3",
   "version": "3.7.1"
  }
 },
 "nbformat": 4,
 "nbformat_minor": 2
}

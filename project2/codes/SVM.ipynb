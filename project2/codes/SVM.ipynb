{
 "cells": [
  {
   "cell_type": "code",
   "execution_count": 32,
   "metadata": {},
   "outputs": [
    {
     "name": "stderr",
     "output_type": "stream",
     "text": [
      "D:\\Anaconda3\\envs\\ml\\lib\\importlib\\_bootstrap.py:219: RuntimeWarning: numpy.ufunc size changed, may indicate binary incompatibility. Expected 192 from C header, got 216 from PyObject\n",
      "  return f(*args, **kwds)\n"
     ]
    }
   ],
   "source": [
    "############################## CMSC828C PROJECT 2 #######################################################\n",
    "# Code : SVM for classification of fashion MNIST \n",
    "# Author : Saket Seshadri Gudimetla Hanumath\n",
    "# UID : 116332293\n",
    "######################################################################################################\n",
    "# Importing NECESSARY LIBRARIES for part 1\n",
    "import numpy as np\n",
    "import mnist_reader\n",
    "import matplotlib.pyplot as plt\n",
    "import math\n",
    "import time\n",
    "\n",
    "from sklearn.decomposition import PCA\n",
    "from sklearn.discriminant_analysis import LinearDiscriminantAnalysis\n",
    "from sklearn.svm import SVC"
   ]
  },
  {
   "cell_type": "code",
   "execution_count": 33,
   "metadata": {},
   "outputs": [],
   "source": [
    "def load_dataset():    \n",
    "    # loading the train and test variables\n",
    "    X_train, y_train = mnist_reader.load_mnist('fashion-mnist-master/data/fashion', kind='train')\n",
    "    X_test, y_test = mnist_reader.load_mnist('fashion-mnist-master/data/fashion', kind='t10k')\n",
    "    \n",
    "    print(\"X_train shape: \", X_train.shape)\n",
    "    print(\"y_train shape: \", y_train.shape)\n",
    "    print(\"X_test shape: \", X_test.shape)\n",
    "    print(\"y_test shape: \", y_test.shape) \n",
    "    \n",
    "    return X_train, y_train, X_test, y_test    "
   ]
  },
  {
   "cell_type": "code",
   "execution_count": 43,
   "metadata": {},
   "outputs": [],
   "source": [
    "def preprocess_data(X_train, X_test, y_train, Pca=0):\n",
    "    # convert from int to flot\n",
    "    X_train = X_train.astype('float32')\n",
    "    X_test = X_test.astype('float32')\n",
    "    \n",
    "    # normalize\n",
    "    X_train = X_train/255.0\n",
    "    X_test = X_test/255.0\n",
    "    \n",
    "    if(Pca == 0):\n",
    "        # reduce dimensions with LDA\n",
    "        lda = LinearDiscriminantAnalysis()\n",
    "\n",
    "        X_train = lda.fit_transform(X_train, y_train)\n",
    "        print(\"X_train shape after LDA : \", X_train.shape)\n",
    "\n",
    "        X_test = lda.transform(X_test)\n",
    "        print(\"X_test after LDA : \", X_test.shape)\n",
    "    else:\n",
    "        # number of parameters that are responsible for var% of total variance\n",
    "        pca = PCA(0.90)\n",
    "\n",
    "        X_train = pca.fit_transform(X_train)\n",
    "        print(\"X_train shape after PCA : \", X_train.shape)\n",
    "        \n",
    "        X_test = pca.transform(X_test)\n",
    "        print(\"X_test after PCA : \", X_test.shape)\n",
    "        \n",
    "    return X_train, X_test"
   ]
  },
  {
   "cell_type": "code",
   "execution_count": 40,
   "metadata": {},
   "outputs": [],
   "source": [
    "def pred_acc(y_test, y_pred):    \n",
    "    comparison = 0\n",
    "    for i in range(0, len(y_pred)):\n",
    "        if y_pred[i] == y_test[i]:\n",
    "            comparison += 1\n",
    "    accuracy = comparison/len(y_pred)\n",
    "    accuracy = accuracy*100\n",
    "    return accuracy"
   ]
  },
  {
   "cell_type": "markdown",
   "metadata": {},
   "source": [
    "## LDA"
   ]
  },
  {
   "cell_type": "code",
   "execution_count": 41,
   "metadata": {},
   "outputs": [
    {
     "name": "stdout",
     "output_type": "stream",
     "text": [
      "X_train shape:  (60000, 784)\n",
      "y_train shape:  (60000,)\n",
      "X_test shape:  (10000, 784)\n",
      "y_test shape:  (10000,)\n",
      "X_train shape after LDA :  (60000, 9)\n",
      "X_test after LDA :  (10000, 9)\n"
     ]
    }
   ],
   "source": [
    "X_train, y_train, X_test, y_test = load_dataset()\n",
    "X_train, X_test = preprocess_data(X_train, X_test, y_train)"
   ]
  },
  {
   "cell_type": "code",
   "execution_count": 31,
   "metadata": {},
   "outputs": [],
   "source": [
    "def model_svm(X_train, y_train, X_test, y_test, kernel, degree=1, gamma='auto', C=1):\n",
    "#     print(\"C-{}\".format(C))\n",
    "    if(kernel == 'poly'):\n",
    "        svm = SVC(kernel=kernel, degree=degree, gamma='auto')\n",
    "    elif(kernel == 'rbf'):\n",
    "        svm = SVC(kernel=kernel, gamma=gamma, C=C)\n",
    "    else:\n",
    "        svm = SVC(kernel=kernel, C=C)\n",
    "    \n",
    "    %time svm.fit(X_train, y_train)\n",
    "    \n",
    "    y_pred = svm.predict(X_test)\n",
    "    acc_test = pred_acc(y_test, y_pred)\n",
    "    \n",
    "    y_pred = svm.predict(X_train)\n",
    "    acc_train = pred_acc(y_train, y_pred)\n",
    "    return acc_test, acc_train"
   ]
  },
  {
   "cell_type": "markdown",
   "metadata": {},
   "source": [
    "Linear Kernel "
   ]
  },
  {
   "cell_type": "code",
   "execution_count": 19,
   "metadata": {},
   "outputs": [
    {
     "name": "stdout",
     "output_type": "stream",
     "text": [
      "C-1\n",
      "Wall time: 20.6 s\n",
      "test acc :  82.50999999999999\n",
      "train acc :  84.38333333333333\n"
     ]
    }
   ],
   "source": [
    "# linear kernel\n",
    "kernel = 'linear'\n",
    "acc_test, acc_train = model_svm(X_train, y_train, X_test, y_test, kernel)\n",
    "print(\"test acc : \", acc_test)\n",
    "print(\"train acc : \", acc_train)\n",
    "# Acc for linear kernel\n",
    "# Test - 82.51%\n",
    "# Train - 84.38%"
   ]
  },
  {
   "cell_type": "markdown",
   "metadata": {},
   "source": [
    "Regularization Parameter tuning"
   ]
  },
  {
   "cell_type": "code",
   "execution_count": 22,
   "metadata": {},
   "outputs": [
    {
     "name": "stdout",
     "output_type": "stream",
     "text": [
      "C-0.01\n",
      "Wall time: 9.96 s\n",
      "C-0.1\n",
      "Wall time: 10.9 s\n",
      "C-0.5\n",
      "Wall time: 16.4 s\n",
      "C-1\n",
      "Wall time: 20.6 s\n",
      "C-10\n",
      "Wall time: 1min 6s\n",
      "C-50\n",
      "Wall time: 3min 38s\n",
      "[[82.55, 84.30666666666666], [82.52000000000001, 84.35166666666667], [82.54, 84.38166666666666], [82.50999999999999, 84.38333333333333], [82.53, 84.37833333333333], [82.52000000000001, 84.38166666666666]]\n"
     ]
    }
   ],
   "source": [
    "# testing out the linear kernel for different values of C\n",
    "C_list = [0.01, 0.1, 0.5, 1, 10, 50]\n",
    "kernel = 'linear'\n",
    "acc_list_C = []\n",
    "for c in C_list:\n",
    "    acc_test, acc_train = model_svm(X_train, y_train, X_test, y_test, kernel, 1, 'auto', c)\n",
    "    a = [acc_test, acc_train]\n",
    "    acc_list_C.append(a)\n",
    "print(acc_list_C)"
   ]
  },
  {
   "cell_type": "code",
   "execution_count": 24,
   "metadata": {},
   "outputs": [
    {
     "data": {
      "image/png": "[encoded data removed]",
      "text/plain": [
       "<Figure size 432x288 with 1 Axes>"
      ]
     },
     "metadata": {
      "needs_background": "light"
     },
     "output_type": "display_data"
    }
   ],
   "source": [
    "# plotting the impact of C on kernel\n",
    "test_acc_C = []\n",
    "train_acc_C = []\n",
    "for a in acc_list_C:\n",
    "    test_acc_C.append(a[0])\n",
    "    train_acc_C.append(a[1])\n",
    "\n",
    "# plt.figure(figsize=(8, 8))\n",
    "plt.plot(C_list, test_acc_C, color = 'b', label='Test acc')\n",
    "plt.plot(C_list, train_acc_C, color = 'r', label='Train acc')\n",
    "\n",
    "plt.legend(loc='best')\n",
    "plt.show()"
   ]
  },
  {
   "cell_type": "markdown",
   "metadata": {},
   "source": [
    "Polynomial Kernel"
   ]
  },
  {
   "cell_type": "code",
   "execution_count": 8,
   "metadata": {},
   "outputs": [
    {
     "name": "stdout",
     "output_type": "stream",
     "text": [
      "Wall time: 1min 40s\n",
      "Wall time: 12.9 s\n",
      "Wall time: 17 s\n",
      "Wall time: 30.5 s\n",
      "Wall time: 1min 5s\n",
      "Wall time: 4min 22s\n",
      "Wall time: 20min 28s\n",
      "[[10.0, 10.0], [82.52000000000001, 84.35833333333333], [82.89, 84.68333333333334], [83.37, 85.67833333333333], [82.22, 86.34666666666668], [81.85, 87.76333333333334], [80.21000000000001, 89.25333333333333]]\n"
     ]
    }
   ],
   "source": [
    "# polynomial kernel\n",
    "kernel = 'poly'\n",
    "degrees = [0, 1, 2, 3, 4, 5, 6]\n",
    "acc_list = []\n",
    "for deg in degrees:\n",
    "    acc_test, acc_train = model_svm(X_train, y_train, X_test, y_test, kernel, deg)\n",
    "    a = [acc_test, acc_train]\n",
    "    acc_list.append(a)\n",
    "print(acc_list)"
   ]
  },
  {
   "cell_type": "markdown",
   "metadata": {},
   "source": [
    "Accuracy vs model complexity(degree of poly)"
   ]
  },
  {
   "cell_type": "code",
   "execution_count": 9,
   "metadata": {},
   "outputs": [
    {
     "data": {
      "image/png": "[encoded data removed]",
      "text/plain": [
       "<Figure size 576x576 with 1 Axes>"
      ]
     },
     "metadata": {
      "needs_background": "light"
     },
     "output_type": "display_data"
    }
   ],
   "source": [
    "test_acc = []\n",
    "train_acc = []\n",
    "for a in acc_list:\n",
    "    test_acc.append(a[0])\n",
    "    train_acc.append(a[1])\n",
    "\n",
    "# plt.figure(figsize=(8, 8))\n",
    "plt.plot(degrees, test_acc, color = 'b', label='Test acc')\n",
    "plt.plot(degrees, train_acc, color = 'r', label='Train acc')\n",
    "\n",
    "plt.legend(loc='best')\n",
    "plt.show()\n",
    "\n",
    "# degree = 3 makes sense here. After deg=3 the diff between train and test acc start to rise with\n",
    "# training acc increasing and that of test decreasing which may cause over fitting if the trend is \n",
    "# continued. \n",
    "\n",
    "# For poly svm deg = 3\n",
    "# Train acc - 85.68%\n",
    "# Test acc - 83.37%"
   ]
  },
  {
   "cell_type": "markdown",
   "metadata": {},
   "source": [
    "RBF Kernel"
   ]
  },
  {
   "cell_type": "code",
   "execution_count": 11,
   "metadata": {},
   "outputs": [
    {
     "name": "stdout",
     "output_type": "stream",
     "text": [
      "Wall time: 20.2 s\n",
      "test acc :  83.71\n",
      "train acc :  86.545\n"
     ]
    }
   ],
   "source": [
    "# RBF kernel\n",
    "kernel = 'rbf'\n",
    "acc_test, acc_train = model_svm(X_train, y_train, X_test, y_test, kernel, deg)\n",
    "print(\"test acc : \", acc_test)\n",
    "print(\"train acc : \", acc_train)\n",
    "\n",
    "# best accuracies overall\n",
    "# test - 83.71%\n",
    "# train - 86.545%"
   ]
  },
  {
   "cell_type": "markdown",
   "metadata": {},
   "source": [
    "Tuning gamma "
   ]
  },
  {
   "cell_type": "code",
   "execution_count": 27,
   "metadata": {},
   "outputs": [
    {
     "name": "stdout",
     "output_type": "stream",
     "text": [
      "C-1\n",
      "Wall time: 21.4 s\n",
      "C-1\n",
      "Wall time: 38.8 s\n",
      "C-1\n",
      "Wall time: 1min 19s\n",
      "C-1\n",
      "Wall time: 3min 14s\n",
      "C-1\n",
      "Wall time: 8min 38s\n"
     ]
    }
   ],
   "source": [
    "# testing out different values of gamma \n",
    "gammas = [0.1, 0.3, 0.6, 1, 3]\n",
    "acc_list_gamma = []\n",
    "for gamma in gammas:\n",
    "    acc_test, acc_train = model_svm(X_train, y_train, X_test, y_test, kernel, deg, gamma)\n",
    "    a = [acc_test, acc_train]\n",
    "    acc_list_gamma.append(a)"
   ]
  },
  {
   "cell_type": "code",
   "execution_count": 30,
   "metadata": {},
   "outputs": [
    {
     "data": {
      "image/png": "[encoded data removed]",
      "text/plain": [
       "<Figure size 432x288 with 1 Axes>"
      ]
     },
     "metadata": {
      "needs_background": "light"
     },
     "output_type": "display_data"
    },
    {
     "name": "stdout",
     "output_type": "stream",
     "text": [
      "[83.62, 83.64, 82.89999999999999, 80.86, 67.5]\n",
      "[86.36500000000001, 88.99000000000001, 92.09333333333333, 94.875, 99.335]\n"
     ]
    }
   ],
   "source": [
    "test_acc_gamma = []\n",
    "train_acc_gamma = []\n",
    "for a in acc_list_gamma:\n",
    "    test_acc_gamma.append(a[0])\n",
    "    train_acc_gamma.append(a[1])\n",
    "\n",
    "plt.plot(gammas, test_acc_gamma, color = 'b', label='Test acc')\n",
    "plt.plot(gammas, train_acc_gamma, color = 'r', label='Train acc')\n",
    "\n",
    "plt.legend(loc='best')\n",
    "plt.show()\n",
    "print(test_acc_gamma)\n",
    "print(train_acc_gamma)\n",
    "\n",
    "# higher values of gamma tend to overfit the model \n",
    "# gamma = 0.3\n",
    "# test acc - 83.64%\n",
    "# train acc - 88.99%"
   ]
  },
  {
   "cell_type": "code",
   "execution_count": 25,
   "metadata": {},
   "outputs": [
    {
     "name": "stdout",
     "output_type": "stream",
     "text": [
      "C-0.1\n",
      "Wall time: 48.4 s\n",
      "C-0.5\n",
      "Wall time: 36.5 s\n",
      "C-1\n",
      "Wall time: 39.7 s\n",
      "C-10\n",
      "Wall time: 47 s\n",
      "C-50\n",
      "Wall time: 1min\n",
      "[[82.58, 85.40333333333334], [83.37, 87.69500000000001], [83.64, 88.99000000000001], [82.56, 94.17333333333333], [81.0, 97.16333333333334]]\n"
     ]
    }
   ],
   "source": [
    "# looking at the impact of C on accuracy\n",
    "C_list = [0.1, 0.5, 1, 10, 50]\n",
    "kernel = 'rbf'\n",
    "gamma = 0.3\n",
    "deg = 3\n",
    "acc_list_C = []\n",
    "for c in C_list:\n",
    "    acc_test, acc_train = model_svm(X_train, y_train, X_test, y_test, kernel, deg, gamma, c)\n",
    "    a = [acc_test, acc_train]\n",
    "    acc_list_C.append(a)\n",
    "print(acc_list_C)"
   ]
  },
  {
   "cell_type": "code",
   "execution_count": 28,
   "metadata": {
    "scrolled": true
   },
   "outputs": [
    {
     "data": {
      "image/png": "[encoded data removed]",
      "text/plain": [
       "<Figure size 432x288 with 1 Axes>"
      ]
     },
     "metadata": {
      "needs_background": "light"
     },
     "output_type": "display_data"
    }
   ],
   "source": [
    "test_acc_C = []\n",
    "train_acc_C = []\n",
    "for a in acc_list_C:\n",
    "    test_acc_C.append(a[0])\n",
    "    train_acc_C.append(a[1])\n",
    "\n",
    "plt.plot(C_list[:4], test_acc_C[:4], color = 'b', label='Test acc')\n",
    "plt.plot(C_list[:4], train_acc_C[:4], color = 'r', label='Train acc')\n",
    "\n",
    "plt.legend(loc='best')\n",
    "plt.show()\n",
    "# best performance at C = 1\n",
    "# test acc - 83.64%\n",
    "# train acc - 88.99%"
   ]
  },
  {
   "cell_type": "markdown",
   "metadata": {},
   "source": [
    "## PCA"
   ]
  },
  {
   "cell_type": "code",
   "execution_count": 44,
   "metadata": {},
   "outputs": [
    {
     "name": "stdout",
     "output_type": "stream",
     "text": [
      "X_train shape:  (60000, 784)\n",
      "y_train shape:  (60000,)\n",
      "X_test shape:  (10000, 784)\n",
      "y_test shape:  (10000,)\n",
      "X_train shape after PCA :  (60000, 84)\n",
      "X_test after PCA :  (10000, 84)\n"
     ]
    }
   ],
   "source": [
    "X_train, y_train, X_test, y_test = load_dataset()\n",
    "X_train, X_test = preprocess_data(X_train, X_test, y_train, Pca=1)"
   ]
  },
  {
   "cell_type": "markdown",
   "metadata": {},
   "source": [
    "Linear Kernel"
   ]
  },
  {
   "cell_type": "code",
   "execution_count": 45,
   "metadata": {},
   "outputs": [
    {
     "name": "stdout",
     "output_type": "stream",
     "text": [
      "Wall time: 1min 49s\n",
      "test acc :  84.93\n",
      "train acc :  86.685\n"
     ]
    }
   ],
   "source": [
    "kernel = 'linear'\n",
    "acc_test, acc_train = model_svm(X_train, y_train, X_test, y_test, kernel)\n",
    "print(\"test acc : \", acc_test)\n",
    "print(\"train acc : \", acc_train)"
   ]
  },
  {
   "cell_type": "markdown",
   "metadata": {},
   "source": [
    "Polynomial Kernel"
   ]
  },
  {
   "cell_type": "code",
   "execution_count": 46,
   "metadata": {},
   "outputs": [
    {
     "name": "stdout",
     "output_type": "stream",
     "text": [
      "Wall time: 1min 48s\n",
      "test acc :  86.16\n",
      "train acc :  88.225\n"
     ]
    }
   ],
   "source": [
    "kernel = 'poly'\n",
    "deg = 3\n",
    "acc_test, acc_train = model_svm(X_train, y_train, X_test, y_test, kernel, deg)\n",
    "print(\"test acc : \", acc_test)\n",
    "print(\"train acc : \", acc_train)"
   ]
  },
  {
   "cell_type": "markdown",
   "metadata": {},
   "source": [
    "RBF kernel"
   ]
  },
  {
   "cell_type": "code",
   "execution_count": 50,
   "metadata": {},
   "outputs": [
    {
     "name": "stdout",
     "output_type": "stream",
     "text": [
      "Wall time: 1min 24s\n",
      "test acc :  87.83999999999999\n",
      "train acc :  89.84166666666667\n"
     ]
    }
   ],
   "source": [
    "kernel = 'rbf'\n",
    "acc_test, acc_train = model_svm(X_train, y_train, X_test, y_test, kernel)\n",
    "print(\"test acc : \", acc_test)\n",
    "print(\"train acc : \", acc_train)"
   ]
  },
  {
   "cell_type": "code",
   "execution_count": null,
   "metadata": {},
   "outputs": [],
   "source": []
  }
 ],
 "metadata": {
  "kernelspec": {
   "display_name": "Python 3",
   "language": "python",
   "name": "python3"
  },
  "language_info": {
   "codemirror_mode": {
    "name": "ipython",
    "version": 3
   },
   "file_extension": ".py",
   "mimetype": "text/x-python",
   "name": "python",
   "nbconvert_exporter": "python",
   "pygments_lexer": "ipython3",
   "version": "3.7.5"
  }
 },
 "nbformat": 4,
 "nbformat_minor": 2
}
